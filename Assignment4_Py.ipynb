{
  "nbformat": 4,
  "nbformat_minor": 0,
  "metadata": {
    "colab": {
      "name": "Assignment4_Py.ipynb",
      "provenance": [],
      "collapsed_sections": [],
      "authorship_tag": "ABX9TyOVPdbYdvQe8XbI5OUDS0xw",
      "include_colab_link": true
    },
    "kernelspec": {
      "name": "python3",
      "display_name": "Python 3"
    }
  },
  "cells": [
    {
      "cell_type": "markdown",
      "metadata": {
        "id": "view-in-github",
        "colab_type": "text"
      },
      "source": [
        "<a href=\"https://colab.research.google.com/github/sasireddyvari/Python_Assignments/blob/master/Assignment4_Py.ipynb\" target=\"_parent\"><img src=\"https://colab.research.google.com/assets/colab-badge.svg\" alt=\"Open In Colab\"/></a>"
      ]
    },
    {
      "cell_type": "markdown",
      "metadata": {
        "id": "2tRJAj_-QBTc"
      },
      "source": [
        "1.1 Write a Python Program(with class concepts) to find the area of the triangle using the below formula.\n",
        "area = (s*(s-a)*(s-b)*(s-c)) ** 0.5\n",
        "Function to take the length of the sides of triangle from user should be defined in the parent class and function to calculate the area should be defined in subclass."
      ]
    },
    {
      "cell_type": "code",
      "metadata": {
        "id": "NAlLHfV4pPgP",
        "outputId": "36dfc2e0-696e-4696-9ad9-07e1ebb78327",
        "colab": {
          "base_uri": "https://localhost:8080/",
          "height": 85
        }
      },
      "source": [
        "class polygon:\n",
        "  def __init__(self,a,b,c):\n",
        "    self.a = float(a)\n",
        "    self.b = float(b)\n",
        "    self.c = float(c)\n",
        "\n",
        "a= int(input(\"a=\"))\n",
        "b= int(input(\"b=\"))\n",
        "c= int(input(\"c=\"))\n",
        "\n",
        "class triangle(polygon):\n",
        "    def __init__(self,*args):\n",
        "       # super().__init__(*args)\n",
        "        super(triangle,self).__init__(*args)\n",
        "\n",
        "    def get_area(self):\n",
        "        s = (a + b + c) / 2\n",
        "        return (s*(s-a)*(s-b)*(s-c)) ** 0.5        \n",
        "\n",
        "t = triangle(a,b,c)\n",
        "print(\"area : {}\".format(t.get_area()))"
      ],
      "execution_count": null,
      "outputs": [
        {
          "output_type": "stream",
          "text": [
            "a=3\n",
            "b=4\n",
            "c=5\n",
            "area : 6.0\n"
          ],
          "name": "stdout"
        }
      ]
    },
    {
      "cell_type": "markdown",
      "metadata": {
        "id": "5d3wTUQiIVmB"
      },
      "source": [
        "**1.2 Write a function filter_long_words() that takes a list of words and an integer n and returns the list of words that are longer than n.**"
      ]
    },
    {
      "cell_type": "code",
      "metadata": {
        "id": "OesDAtWZyTDY"
      },
      "source": [
        "def filter_long_words(words,n):\n",
        "  result=[]\n",
        "  for item in words:\n",
        "    if(len(item)>n):\n",
        "      result.append(item)\n",
        "  return result\n",
        "\n",
        "lst_of_words=[\"sasi\", \"Kumar\",\"Reddyvari\"]\n",
        "filter_long_words(lst_of_words,4)"
      ],
      "execution_count": 40,
      "outputs": []
    },
    {
      "cell_type": "markdown",
      "metadata": {
        "id": "Nzo_vYfAemFk"
      },
      "source": [
        "**or**\n"
      ]
    },
    {
      "cell_type": "code",
      "metadata": {
        "id": "LAib7jNSJNpB",
        "outputId": "e85cd23a-47e3-46d4-ead3-8ff83a2a6c70",
        "colab": {
          "base_uri": "https://localhost:8080/",
          "height": 34
        }
      },
      "source": [
        "def le(s):\n",
        "  count=0\n",
        "  for i in s:\n",
        "    count+=1\n",
        "  return count\n",
        "\n",
        "def filter_long_words(words,n):\n",
        "  result=[]\n",
        "  for item in words:\n",
        "    if(le(item)>n):\n",
        "      result.append(item)\n",
        "  return result\n",
        "\n",
        "lst_of_words=[\"sasi\", \"Kumar\",\"Reddyvari\"]\n",
        "filter_long_words(lst_of_words,4)"
      ],
      "execution_count": 43,
      "outputs": [
        {
          "output_type": "execute_result",
          "data": {
            "text/plain": [
              "['Kumar', 'Reddyvari']"
            ]
          },
          "metadata": {
            "tags": []
          },
          "execution_count": 43
        }
      ]
    },
    {
      "cell_type": "markdown",
      "metadata": {
        "id": "C-rXhpI2fLd8"
      },
      "source": [
        "**2.1 Write a Python program using function concept that maps list of words into a list of integers representing the lengths of the corresponding words.**"
      ]
    },
    {
      "cell_type": "code",
      "metadata": {
        "id": "s8bSZeMyJR5T",
        "outputId": "d08bec87-dd97-44e8-c830-c60468fe54db",
        "colab": {
          "base_uri": "https://localhost:8080/",
          "height": 34
        }
      },
      "source": [
        "def le(s):\n",
        "  count=0\n",
        "  for i in s:\n",
        "    count+=1\n",
        "  return count\n",
        "def map_lst_words(words):\n",
        "  l=[]\n",
        "  for item in words:\n",
        "    l.append(le(item))\n",
        "  return l\n",
        "\n",
        "lst=[\"sasi\",\"kumar\", \"reddyvari\"]\n",
        "map_lst_words(lst)\n"
      ],
      "execution_count": 45,
      "outputs": [
        {
          "output_type": "execute_result",
          "data": {
            "text/plain": [
              "[4, 5, 9]"
            ]
          },
          "metadata": {
            "tags": []
          },
          "execution_count": 45
        }
      ]
    },
    {
      "cell_type": "markdown",
      "metadata": {
        "id": "Pi0GVLX1iPEh"
      },
      "source": [
        "**or**"
      ]
    },
    {
      "cell_type": "code",
      "metadata": {
        "id": "OlGcw3yhhvWa",
        "outputId": "2ed93e9d-4c2f-46ea-d450-0ddd48085115",
        "colab": {
          "base_uri": "https://localhost:8080/",
          "height": 34
        }
      },
      "source": [
        "def map_to_lengths_map(words):\n",
        "    return map(le, words)\n",
        "\n",
        "lst=[\"sasi\",\"kumar\", \"reddyvari\"]\n",
        "list(map_to_lengths_map(lst))"
      ],
      "execution_count": 46,
      "outputs": [
        {
          "output_type": "execute_result",
          "data": {
            "text/plain": [
              "[4, 5, 9]"
            ]
          },
          "metadata": {
            "tags": []
          },
          "execution_count": 46
        }
      ]
    },
    {
      "cell_type": "markdown",
      "metadata": {
        "id": "-alPx7Z_iqzA"
      },
      "source": [
        "**or**"
      ]
    },
    {
      "cell_type": "code",
      "metadata": {
        "id": "z_aL-HTYinu5",
        "outputId": "8e209922-12b7-4b16-aef9-ce312e5ec1ff",
        "colab": {
          "base_uri": "https://localhost:8080/",
          "height": 34
        }
      },
      "source": [
        "def map_to_lengths_map(words):\n",
        "    return map(len, words)\n",
        "\n",
        "lst=[\"sasi\",\"kumar\", \"reddyvari\"]\n",
        "list(map_to_lengths_map(lst))"
      ],
      "execution_count": 48,
      "outputs": [
        {
          "output_type": "execute_result",
          "data": {
            "text/plain": [
              "[4, 5, 9]"
            ]
          },
          "metadata": {
            "tags": []
          },
          "execution_count": 48
        }
      ]
    },
    {
      "cell_type": "markdown",
      "metadata": {
        "id": "yi2sQ8JIjoUB"
      },
      "source": [
        "**2.2 Write a Python function which takes a character (i.e. a string of length 1) and returns True if it is a vowel, False otherwise.**"
      ]
    },
    {
      "cell_type": "code",
      "metadata": {
        "id": "5YKgmUAcithy",
        "outputId": "a59b2c8e-416f-4150-e05b-4c0f0dcf5f29",
        "colab": {
          "base_uri": "https://localhost:8080/",
          "height": 34
        }
      },
      "source": [
        "def vowel(c):\n",
        "  if (c == 'a' or c == 'e' or c == 'i' or c == 'o' or c == 'u'):  \n",
        "    return True\n",
        "  else:\n",
        "    return False\n",
        "\n",
        "cha='s'\n",
        "vowel(cha)"
      ],
      "execution_count": 49,
      "outputs": [
        {
          "output_type": "execute_result",
          "data": {
            "text/plain": [
              "False"
            ]
          },
          "metadata": {
            "tags": []
          },
          "execution_count": 49
        }
      ]
    },
    {
      "cell_type": "code",
      "metadata": {
        "id": "DNxkJnnxkNPx"
      },
      "source": [
        ""
      ],
      "execution_count": null,
      "outputs": []
    }
  ]
}