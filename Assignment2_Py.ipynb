{
  "nbformat": 4,
  "nbformat_minor": 0,
  "metadata": {
    "colab": {
      "name": "Assignment2_Py.ipynb",
      "provenance": [],
      "collapsed_sections": [],
      "authorship_tag": "ABX9TyP6sPRB2l71N8/0SZ96PrZ3",
      "include_colab_link": true
    },
    "kernelspec": {
      "name": "python3",
      "display_name": "Python 3"
    }
  },
  "cells": [
    {
      "cell_type": "markdown",
      "metadata": {
        "id": "view-in-github",
        "colab_type": "text"
      },
      "source": [
        "<a href=\"https://colab.research.google.com/github/sasireddyvari/Python_Assignments/blob/master/Assignment2_Py.ipynb\" target=\"_parent\"><img src=\"https://colab.research.google.com/assets/colab-badge.svg\" alt=\"Open In Colab\"/></a>"
      ]
    },
    {
      "cell_type": "markdown",
      "metadata": {
        "id": "73BVV9jGtiYO"
      },
      "source": [
        "**1. Create the below pattern using nested for loop in Python.**\n",
        "\n",
        "\n",
        "> Indented block\n",
        "\n",
        "\n",
        "    *\n",
        "    * *\n",
        "    * * *\n",
        "    * * * *\n",
        "    * * * * *\n",
        "    * * * *\n",
        "    * * *\n",
        "    * *\n",
        "    *"
      ]
    },
    {
      "cell_type": "code",
      "metadata": {
        "id": "VpuUhzBUt1kc",
        "outputId": "f3cb5fcd-e88b-4b5f-bbde-c70a2eb9b100",
        "colab": {
          "base_uri": "https://localhost:8080/",
          "height": 170
        }
      },
      "source": [
        "def star(n):\n",
        "  for i in range(0,n):#to handle rows\n",
        "    for j in range(0,i+1):\n",
        "      print(\"* \",end=\"\")\n",
        "    print('\\r') # carriage return \\r-- It returns the control to the begining of the line without advancig downward \n",
        "                # linefeed \\n -- It brings the control to the next line with advance downward\n",
        "  for i in range(n-1,0,-1):\n",
        "    for j in range(i,0,-1):\n",
        "      print(\"* \",end=\"\")\n",
        "    print('\\r')\n",
        "\n",
        "star(5)"
      ],
      "execution_count": 18,
      "outputs": [
        {
          "output_type": "stream",
          "text": [
            "* \r\n",
            "* * \r\n",
            "* * * \r\n",
            "* * * * \r\n",
            "* * * * * \r\n",
            "* * * * \r\n",
            "* * * \r\n",
            "* * \r\n",
            "* \r\n"
          ],
          "name": "stdout"
        }
      ]
    },
    {
      "cell_type": "markdown",
      "metadata": {
        "id": "WVEC7oqPCuwi"
      },
      "source": [
        "2.Write a Python program to reverse a word after accepting the input from the user"
      ]
    },
    {
      "cell_type": "code",
      "metadata": {
        "id": "8tmr6tqFzgxN",
        "outputId": "dc942259-63ad-4569-b94b-4018d6985c73",
        "colab": {
          "base_uri": "https://localhost:8080/",
          "height": 51
        }
      },
      "source": [
        "User_Input=input('Enter the Word:')\n",
        "print(\"The Reverse of the Input:\",User_Input[::-1])"
      ],
      "execution_count": 23,
      "outputs": [
        {
          "output_type": "stream",
          "text": [
            "Enter the Word:Sasi\n",
            "The Reverse of the Input: isaS\n"
          ],
          "name": "stdout"
        }
      ]
    },
    {
      "cell_type": "markdown",
      "metadata": {
        "id": "e-9NUlo8DcoY"
      },
      "source": [
        "**Or**"
      ]
    },
    {
      "cell_type": "code",
      "metadata": {
        "id": "HmWZ1I2-Ds-2",
        "outputId": "0c732f31-ea75-49ed-d79d-8f981557db9c",
        "colab": {
          "base_uri": "https://localhost:8080/",
          "height": 51
        }
      },
      "source": [
        "def reverse(s):\n",
        "  str=\"\"\n",
        "  for i in s:\n",
        "    str =i + str\n",
        "    #print(str)\n",
        "  return str\n",
        "\n",
        "User_Input=input('Enter the Word:')\n",
        "print(\"The reverse of the Input:\",reverse(User_Input))"
      ],
      "execution_count": 31,
      "outputs": [
        {
          "output_type": "stream",
          "text": [
            "Enter the Word:Sasi\n",
            "The reverse of the Input: isaS\n"
          ],
          "name": "stdout"
        }
      ]
    },
    {
      "cell_type": "markdown",
      "metadata": {
        "id": "Ps2hQ4PMGL_Y"
      },
      "source": [
        "**Or**"
      ]
    },
    {
      "cell_type": "code",
      "metadata": {
        "id": "pY8hSiFtGO7M",
        "outputId": "79225018-63db-431e-d7d2-20246bfcad60",
        "colab": {
          "base_uri": "https://localhost:8080/",
          "height": 51
        }
      },
      "source": [
        "def reverse(s): \n",
        "    if len(s) == 0: \n",
        "        return s \n",
        "    else: \n",
        "        return reverse(s[1:]) + s[0]\n",
        "\n",
        "User_Input=input('Enter the Word:')\n",
        "print(\"The reverse of the Input:\",reverse(User_Input))"
      ],
      "execution_count": 33,
      "outputs": [
        {
          "output_type": "stream",
          "text": [
            "Enter the Word:SasiKudsds\n",
            "The reverse of the Input: sdsduKisaS\n"
          ],
          "name": "stdout"
        }
      ]
    },
    {
      "cell_type": "markdown",
      "metadata": {
        "id": "i7Tkq6mpHDIi"
      },
      "source": [
        "or"
      ]
    },
    {
      "cell_type": "code",
      "metadata": {
        "id": "d_0bzizcGUut",
        "outputId": "66c0390e-0e12-4a22-8fb3-ef91825671e8",
        "colab": {
          "base_uri": "https://localhost:8080/",
          "height": 51
        }
      },
      "source": [
        "def reverse(s): \n",
        "    s = \"\".join(reversed(s)) \n",
        "    return s\n",
        "\n",
        "\n",
        "User_Input=input('Enter the Word:')\n",
        "print(\"The reverse of the Input:\",reverse(User_Input))"
      ],
      "execution_count": 34,
      "outputs": [
        {
          "output_type": "stream",
          "text": [
            "Enter the Word:Sasi Kuar\n",
            "The reverse of the Input: rauK isaS\n"
          ],
          "name": "stdout"
        }
      ]
    },
    {
      "cell_type": "code",
      "metadata": {
        "id": "jNf732FsHWi7"
      },
      "source": [
        ""
      ],
      "execution_count": null,
      "outputs": []
    }
  ]
}