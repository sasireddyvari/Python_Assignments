{
  "nbformat": 4,
  "nbformat_minor": 0,
  "metadata": {
    "colab": {
      "name": "Assignment3_Py.ipynb",
      "provenance": [],
      "collapsed_sections": [],
      "authorship_tag": "ABX9TyM/dzD1P8lpl+GlpfpBZA34",
      "include_colab_link": true
    },
    "kernelspec": {
      "name": "python3",
      "display_name": "Python 3"
    }
  },
  "cells": [
    {
      "cell_type": "markdown",
      "metadata": {
        "id": "view-in-github",
        "colab_type": "text"
      },
      "source": [
        "<a href=\"https://colab.research.google.com/github/sasireddyvari/Python_Assignments/blob/master/Assignment3_Py.ipynb\" target=\"_parent\"><img src=\"https://colab.research.google.com/assets/colab-badge.svg\" alt=\"Open In Colab\"/></a>"
      ]
    },
    {
      "cell_type": "markdown",
      "metadata": {
        "id": "GLLc1PZaKdAV"
      },
      "source": [
        "**1.1 Write a Python Program to implement your own myreduce() function which works exactly like Python's built-in function reduce()**"
      ]
    },
    {
      "cell_type": "code",
      "metadata": {
        "id": "zWMYqqvoKfay",
        "outputId": "54518783-2728-4321-d7ee-6cf86f074650",
        "colab": {
          "base_uri": "https://localhost:8080/",
          "height": 34
        }
      },
      "source": [
        "# Map returns a list of values\n",
        "# Reduce returns a single value\n",
        "# Filter returns a boolean value for each item in the iterable\n",
        "\n",
        "def myreduce(fun,seq):\n",
        "  first = seq[0]\n",
        "  for i in seq[1:]:\n",
        "    first = fun(first, i)\n",
        "  return first\n",
        "\n",
        "def sum(a,b):\n",
        "  return a+b\n",
        "\n",
        "# My Own Reduce Function\n",
        "l=[1,2,3]\n",
        "myreduce(sum,l)"
      ],
      "execution_count": 2,
      "outputs": [
        {
          "output_type": "execute_result",
          "data": {
            "text/plain": [
              "6"
            ]
          },
          "metadata": {
            "tags": []
          },
          "execution_count": 2
        }
      ]
    },
    {
      "cell_type": "markdown",
      "metadata": {
        "id": "83ywI2vyodMQ"
      },
      "source": [
        "**1.2. Write a Python program to implement your own myfilter() function which works exactly like Python's built-in function filter()**"
      ]
    },
    {
      "cell_type": "code",
      "metadata": {
        "id": "BhOcvmaXoAUz",
        "outputId": "ebf7e824-7dfa-4636-e771-27d60e87ef38",
        "colab": {
          "base_uri": "https://localhost:8080/",
          "height": 34
        }
      },
      "source": [
        "def isPrime(x):\n",
        "  for n in range(2,x):\n",
        "    if x < 2:\n",
        "      return False\n",
        "    elif x == 2:\n",
        "      return True \n",
        "    if x%n==0:\n",
        "      return False\n",
        "    else:\n",
        "      return True\n",
        "\n",
        "def myfilter(fun, seq):\n",
        "  result = [] # iterate over sequence of items in sequence and apply filter function\n",
        "  for item in seq:\n",
        "    if fun(item):\n",
        "      result.append(item)\n",
        "  return result\n",
        "\n",
        "# Test Own filter\n",
        "list(myfilter(isPrime,range(40)))"
      ],
      "execution_count": 12,
      "outputs": [
        {
          "output_type": "execute_result",
          "data": {
            "text/plain": [
              "[3, 5, 7, 9, 11, 13, 15, 17, 19, 21, 23, 25, 27, 29, 31, 33, 35, 37, 39]"
            ]
          },
          "metadata": {
            "tags": []
          },
          "execution_count": 12
        }
      ]
    },
    {
      "cell_type": "markdown",
      "metadata": {
        "id": "ImmKfs736fuG"
      },
      "source": [
        "**2. Implement List comprehensions to produce the following lists.Write List comprehensions to produce the following Lists.**\n",
        "\n",
        "* ['x', 'xx', 'xxx', 'xxxx', 'y', 'yy', 'yyy', 'yyyy', 'z', 'zz', 'zzz', 'zzzz']  \n",
        "* ['x', 'y', 'z', 'xx', 'yy', 'zz', 'xxx', 'yyy', 'zzz', 'xxxx', 'yyyy', 'zzzz']\n",
        "* [[2], [3], [4], [3], [4], [5], [4], [5], [6]] \n",
        "* [[2, 3, 4, 5], [3, 4, 5, 6],[4, 5, 6, 7], [5, 6, 7, 8]]\n",
        "\n",
        "* [(1, 1), (2, 1), (3, 1), (1, 2), (2, 2), (3, 2), (1, 3), (2, 3), (3, 3)]\n",
        "\n"
      ]
    },
    {
      "cell_type": "code",
      "metadata": {
        "id": "lD3BQ5APM7NK",
        "outputId": "896e4f4b-6ab9-40c3-abc5-60307089ce47",
        "colab": {
          "base_uri": "https://localhost:8080/",
          "height": 34
        }
      },
      "source": [
        "# An Instance\n",
        "word = \"SASIKUMAR\"\n",
        "alphabet_list = [ alphabet for alphabet in word ]\n",
        "print (\"SASIKUMAR => \" + str(alphabet_list))"
      ],
      "execution_count": 25,
      "outputs": [
        {
          "output_type": "stream",
          "text": [
            "SASIKUMAR => ['S', 'A', 'S', 'I', 'K', 'U', 'M', 'A', 'R']\n"
          ],
          "name": "stdout"
        }
      ]
    },
    {
      "cell_type": "code",
      "metadata": {
        "id": "-hMioMBCMOx8",
        "outputId": "3346ce2c-1ffd-4241-878f-e936ca64a308",
        "colab": {
          "base_uri": "https://localhost:8080/",
          "height": 34
        }
      },
      "source": [
        "input_list = ['x','y','z']\n",
        "result = [ item*num for item in input_list for num in range(1,5)  ]\n",
        "print(\"['x','y','z'] => \" +   str(result))"
      ],
      "execution_count": 26,
      "outputs": [
        {
          "output_type": "stream",
          "text": [
            "['x','y','z'] => ['x', 'xx', 'xxx', 'xxxx', 'y', 'yy', 'yyy', 'yyyy', 'z', 'zz', 'zzz', 'zzzz']\n"
          ],
          "name": "stdout"
        }
      ]
    },
    {
      "cell_type": "code",
      "metadata": {
        "id": "y4f4pkKEMUaR",
        "outputId": "46866437-a947-4728-8fd9-afc658748a3a",
        "colab": {
          "base_uri": "https://localhost:8080/",
          "height": 34
        }
      },
      "source": [
        "input_list = ['x','y','z']\n",
        "result = [ item*num for num in range(1,5) for item in input_list  ]\n",
        "print(\"['x','y','z'] => \" +   str(result))"
      ],
      "execution_count": 17,
      "outputs": [
        {
          "output_type": "stream",
          "text": [
            "['x','y','z'] => ['x', 'y', 'z', 'xx', 'yy', 'zz', 'xxx', 'yyy', 'zzz', 'xxxx', 'yyyy', 'zzzz']\n"
          ],
          "name": "stdout"
        }
      ]
    },
    {
      "cell_type": "code",
      "metadata": {
        "id": "4JJ7io-AMdoP",
        "outputId": "30df6241-e2a8-4c0a-f469-729818d2c318",
        "colab": {
          "base_uri": "https://localhost:8080/",
          "height": 34
        }
      },
      "source": [
        "input_list = [2,3,4]\n",
        "result = [ [item+num] for item in input_list for num in range(0,3)]\n",
        "print(\"[2,3,4] =>\" +  str(result))"
      ],
      "execution_count": 18,
      "outputs": [
        {
          "output_type": "stream",
          "text": [
            "[2,3,4] =>[[2], [3], [4], [3], [4], [5], [4], [5], [6]]\n"
          ],
          "name": "stdout"
        }
      ]
    },
    {
      "cell_type": "code",
      "metadata": {
        "id": "FvqEW4nQMeI5",
        "outputId": "48914dd1-7bf8-4914-f72c-e8045584f9e8",
        "colab": {
          "base_uri": "https://localhost:8080/",
          "height": 34
        }
      },
      "source": [
        "input_list = [2,3,4,5]\n",
        "result = [ [item+num for item in input_list] for num in range(0,4)  ]\n",
        "print(\"[2,3,4,5] =>\" +  str(result))"
      ],
      "execution_count": 19,
      "outputs": [
        {
          "output_type": "stream",
          "text": [
            "[2,3,4,5] =>[[2, 3, 4, 5], [3, 4, 5, 6], [4, 5, 6, 7], [5, 6, 7, 8]]\n"
          ],
          "name": "stdout"
        }
      ]
    },
    {
      "cell_type": "code",
      "metadata": {
        "id": "gVfKjL5LMgJj",
        "outputId": "7947077f-1142-4fb9-cd94-bbf1320617ac",
        "colab": {
          "base_uri": "https://localhost:8080/",
          "height": 34
        }
      },
      "source": [
        "input_list=[1,2,3]\n",
        "result = [ (b,a) for a in input_list for b in input_list]\n",
        "print(\"[1,2,3] =>\" +  str(result))"
      ],
      "execution_count": 20,
      "outputs": [
        {
          "output_type": "stream",
          "text": [
            "[1,2,3] =>[(1, 1), (2, 1), (3, 1), (1, 2), (2, 2), (3, 2), (1, 3), (2, 3), (3, 3)]\n"
          ],
          "name": "stdout"
        }
      ]
    }
  ]
}