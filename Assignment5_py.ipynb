{
  "nbformat": 4,
  "nbformat_minor": 0,
  "metadata": {
    "colab": {
      "name": "Assignment5_py.ipynb",
      "provenance": [],
      "collapsed_sections": [],
      "authorship_tag": "ABX9TyNZZI+ILhEFPh1U/GyBPPiB",
      "include_colab_link": true
    },
    "kernelspec": {
      "name": "python3",
      "display_name": "Python 3"
    }
  },
  "cells": [
    {
      "cell_type": "markdown",
      "metadata": {
        "id": "view-in-github",
        "colab_type": "text"
      },
      "source": [
        "<a href=\"https://colab.research.google.com/github/sasireddyvari/Python_Assignments/blob/master/Assignment5_py.ipynb\" target=\"_parent\"><img src=\"https://colab.research.google.com/assets/colab-badge.svg\" alt=\"Open In Colab\"/></a>"
      ]
    },
    {
      "cell_type": "markdown",
      "metadata": {
        "id": "_Y5KdvTvt-Hc"
      },
      "source": [
        "**1. Write a function to compute 5/0 and use try/except to catch the exceptions.**"
      ]
    },
    {
      "cell_type": "code",
      "metadata": {
        "id": "5xrNXzNkuBuS",
        "outputId": "615c1db0-1a84-4f61-daa1-65d536adf1bf",
        "colab": {
          "base_uri": "https://localhost:8080/",
          "height": 51
        }
      },
      "source": [
        "def compute(n):\n",
        "  return n/0\n",
        "\n",
        "try:\n",
        "  compute(5)\n",
        "except ZeroDivisionError:\n",
        "    print(\"division by zero!\")\n",
        "finally:\n",
        "  print(\"The Final Execution block\")\n"
      ],
      "execution_count": 2,
      "outputs": [
        {
          "output_type": "stream",
          "text": [
            "division by zero!\n",
            "The Final Execution block\n"
          ],
          "name": "stdout"
        }
      ]
    },
    {
      "cell_type": "markdown",
      "metadata": {
        "id": "FZyE_nMW9zJR"
      },
      "source": [
        "2. Implement a Python program to generate all sentences where subject is in\n",
        "[\"Americans\", \"Indians\"] and verb is in [\"Play\", \"watch\"] and the object is in\n",
        "[\"Baseball\",\"cricket\"].\n",
        "\n",
        "Hint: Subject,Verb and Object should be declared in the program as shown below.\n",
        "subjects=[\"Americans \",\"Indians\"]\n",
        "verbs=[\"play\",\"watch\"]\n",
        "objects=[\"Baseball\",\"Cricket\"]\n",
        "\n",
        "Output should come as below:\n",
        "* Americans play Baseball.\n",
        "* Americans play Cricket.\n",
        "* Americans watch Baseball.\n",
        "* Americans watch Cricket.\n",
        "* Indians play Baseball.\n",
        "* Indians play Cricket.\n",
        "* Indians watch Baseball.\n",
        "* Indians watch Cricket."
      ]
    },
    {
      "cell_type": "code",
      "metadata": {
        "id": "kwkTUY-dvkyp",
        "outputId": "b18587a6-60a0-4b0c-dff2-d69c19bfd04a",
        "colab": {
          "base_uri": "https://localhost:8080/",
          "height": 170
        }
      },
      "source": [
        "subject=[\"Americans\",\"Indians\"]\n",
        "verb=[\"play\",\"watch\"]\n",
        "objects=[\"Baseball\",\"Cricket\"]\n",
        "\n",
        "# List Comprehension\n",
        "Syntax = [(Sub+' '+vrb+' '+Objct+\".\\r\") for Sub in subject for vrb in verb for Objct in objects]\n",
        "\n",
        "#for Loop for Iteration\n",
        "print(\"Output:\")\n",
        "\n",
        "for syn in Syntax:    \n",
        "    print(syn)"
      ],
      "execution_count": 3,
      "outputs": [
        {
          "output_type": "stream",
          "text": [
            "Output:\n",
            "Americans play Baseball.\r\n",
            "Americans play Cricket.\r\n",
            "Americans watch Baseball.\r\n",
            "Americans watch Cricket.\r\n",
            "Indians play Baseball.\r\n",
            "Indians play Cricket.\r\n",
            "Indians watch Baseball.\r\n",
            "Indians watch Cricket.\r\n"
          ],
          "name": "stdout"
        }
      ]
    },
    {
      "cell_type": "code",
      "metadata": {
        "id": "gGz6Ss8F-6H4"
      },
      "source": [
        ""
      ],
      "execution_count": null,
      "outputs": []
    }
  ]
}